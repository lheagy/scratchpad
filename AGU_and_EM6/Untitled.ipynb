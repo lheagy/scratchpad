{
 "cells": [
  {
   "cell_type": "code",
   "execution_count": 12,
   "metadata": {
    "collapsed": true
   },
   "outputs": [],
   "source": [
    "from CasingSimulations import *"
   ]
  },
  {
   "cell_type": "code",
   "execution_count": 13,
   "metadata": {
    "collapsed": true
   },
   "outputs": [],
   "source": [
    "cp = CasingProperties()"
   ]
  },
  {
   "cell_type": "code",
   "execution_count": 15,
   "metadata": {
    "collapsed": false
   },
   "outputs": [
    {
     "data": {
      "text/plain": [
       "{u'__class__': 'CasingProperties',\n",
       " 'casing_d': 0.1,\n",
       " 'casing_l': 1000.0,\n",
       " 'casing_t': 0.01,\n",
       " 'casing_top': 0.0,\n",
       " 'dsz': -950.0,\n",
       " 'freqs': [0.0001, 0.001, 0.01, 0.1, 0.5, 1.0],\n",
       " 'layer_z': [-1000.0, -900.0],\n",
       " 'muModels': [1.0, 50.0, 100.0, 200.0],\n",
       " 'sigmaair': 1e-08,\n",
       " 'sigmaback': 0.01,\n",
       " 'sigmacasing': 5500000.0,\n",
       " 'sigmainside': 1.0,\n",
       " 'sigmalayer': 0.01,\n",
       " 'src_b': [10000.0, 0.0, 0.0]}"
      ]
     },
     "execution_count": 15,
     "metadata": {},
     "output_type": "execute_result"
    }
   ],
   "source": [
    "cp.serialize()"
   ]
  },
  {
   "cell_type": "code",
   "execution_count": 7,
   "metadata": {
    "collapsed": false
   },
   "outputs": [
    {
     "data": {
      "text/plain": [
       "257.0393989300739"
      ]
     },
     "execution_count": 7,
     "metadata": {},
     "output_type": "execute_result"
    }
   ],
   "source": [
    "2*np.pi*(-2)*(1/30. - 1/10. - 1/45. + 1/25.)**-1"
   ]
  },
  {
   "cell_type": "code",
   "execution_count": 4,
   "metadata": {
    "collapsed": false
   },
   "outputs": [],
   "source": [
    "import numpy as np"
   ]
  },
  {
   "cell_type": "code",
   "execution_count": null,
   "metadata": {
    "collapsed": true
   },
   "outputs": [],
   "source": []
  }
 ],
 "metadata": {
  "kernelspec": {
   "display_name": "Python [conda root]",
   "language": "python",
   "name": "conda-root-py"
  },
  "language_info": {
   "codemirror_mode": {
    "name": "ipython",
    "version": 2
   },
   "file_extension": ".py",
   "mimetype": "text/x-python",
   "name": "python",
   "nbconvert_exporter": "python",
   "pygments_lexer": "ipython2",
   "version": "2.7.12"
  }
 },
 "nbformat": 4,
 "nbformat_minor": 1
}
