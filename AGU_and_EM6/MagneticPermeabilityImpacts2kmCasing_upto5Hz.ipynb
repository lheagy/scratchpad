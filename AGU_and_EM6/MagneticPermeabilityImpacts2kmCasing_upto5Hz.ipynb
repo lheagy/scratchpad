{
 "cells": [
  {
   "cell_type": "markdown",
   "metadata": {},
   "source": [
    "## Using the em/feat/muinversion branch of SimPEG (http://github.com/simpeg/simpeg)"
   ]
  },
  {
   "cell_type": "code",
   "execution_count": 1,
   "metadata": {
    "collapsed": false
   },
   "outputs": [],
   "source": [
    "from CasingSimulations import * \n",
    "%matplotlib inline"
   ]
  },
  {
   "cell_type": "code",
   "execution_count": 2,
   "metadata": {
    "collapsed": true
   },
   "outputs": [],
   "source": [
    "directory = 'UniformBackground2kmCasing_upto5Hz'\n",
    "cpfile = \"CasingProperties.json\"\n",
    "resultsfile = \"MagneticPermeabilityImpacts.hdf5\"\n",
    "rerun = False"
   ]
  },
  {
   "cell_type": "markdown",
   "metadata": {},
   "source": [
    "# Model Parameters"
   ]
  },
  {
   "cell_type": "code",
   "execution_count": 3,
   "metadata": {
    "collapsed": true
   },
   "outputs": [],
   "source": [
    "casing_l = 2000.\n",
    "dsz = -casing_l + 50. \n",
    "freqs = [1e-1, 0.5, 1, 2, 5]"
   ]
  },
  {
   "cell_type": "code",
   "execution_count": 4,
   "metadata": {
    "collapsed": false
   },
   "outputs": [],
   "source": [
    "# Save or load Results\n",
    "cp_file = '{directory}/{cpfile}'.format(directory=directory, cpfile=cpfile)\n",
    "\n",
    "if rerun is True:   \n",
    "    cp = CasingProperties(casing_l=casing_l, dsz=dsz)\n",
    "    cp.freqs = freqs\n",
    "else:   \n",
    "    with open(cp_file, 'r') as outfile:   \n",
    "        cp = CasingProperties.deserialize(json.load(outfile))"
   ]
  },
  {
   "cell_type": "code",
   "execution_count": 5,
   "metadata": {
    "collapsed": false
   },
   "outputs": [],
   "source": [
    "CMesh = CasingMesh(cp)\n",
    "CMesh.npadx2 = CMesh.npadx2 - 3\n",
    "CMesh.npadzu = CMesh.npadzu - 3\n",
    "CMesh.npadzd = CMesh.npadzd - 3\n",
    "mesh = CMesh.mesh"
   ]
  },
  {
   "cell_type": "code",
   "execution_count": 6,
   "metadata": {
    "collapsed": false
   },
   "outputs": [
    {
     "name": "stdout",
     "output_type": "stream",
     "text": [
      "Cyl Mesh Extent xmax: 208853.54563,: zmin: -184013.550756, zmax: 182014.050756\n",
      "4769520\n",
      "[15811.388300841898, 7071.0678118654751, 5000.0, 3535.5339059327375, 2236.0679774997898]\n",
      "[0.67419986246324204, 0.30151134457776363, 0.21320071635561044, 0.15075567228888181, 0.095346258924559224]\n"
     ]
    }
   ],
   "source": [
    "print(\n",
    "    'Cyl Mesh Extent xmax: {},: zmin: {}, zmax: {}'.format(\n",
    "        mesh.vectorCCx.max(),\n",
    "        mesh.vectorCCz.min(),\n",
    "        mesh.vectorCCz.max()\n",
    "    )\n",
    ")\n",
    "\n",
    "print(mesh.nC)\n",
    "print([500./np.sqrt(cp.sigmaback*f) for f in cp.freqs])\n",
    "print([500./np.sqrt(cp.sigmacasing*f) for f in cp.freqs])"
   ]
  },
  {
   "cell_type": "markdown",
   "metadata": {},
   "source": [
    "# plot model"
   ]
  },
  {
   "cell_type": "code",
   "execution_count": 7,
   "metadata": {
    "collapsed": false
   },
   "outputs": [
    {
     "data": {
      "image/png": "[encoded data removed]",
      "text/plain": [
       "<matplotlib.figure.Figure at 0x110572ad0>"
      ]
     },
     "metadata": {},
     "output_type": "display_data"
    }
   ],
   "source": [
    "fig, ax = plt.subplots(1,1)\n",
    "mesh.plotGrid(ax=ax)\n",
    "\n",
    "# fig.savefig('{}/{}'.format(directory, 'CylMesh.png'))"
   ]
  },
  {
   "cell_type": "code",
   "execution_count": 8,
   "metadata": {
    "collapsed": false
   },
   "outputs": [
    {
     "name": "stderr",
     "output_type": "stream",
     "text": [
      "/Users/lindseyjh/git/python_symlinks/SimPEG/Maps.py:166: UnicodeWarning: Unicode equal comparison failed to convert both arguments to Unicode - interpreting them as being unequal\n",
      "  not (self.shape[1] == '*' or val.shape[0] == '*') and\n",
      "/Users/lindseyjh/git/python_symlinks/SimPEG/Maps.py:224: UnicodeWarning: Unicode equal comparison failed to convert both arguments to Unicode - interpreting them as being unequal\n",
      "  ii > 0 and not (self.shape[1] == '*' or m.shape[0] == '*') and\n"
     ]
    }
   ],
   "source": [
    "indActive=mesh.gridCC[:,2] <= 0.\n",
    "casingMap = Maps.ParametrizedCasingAndLayer(mesh, indActive=indActive, slope=1e8)\n",
    "actMap_sigma = Maps.InjectActiveCells(mesh, indActive=indActive, valInactive=np.log(cp.sigmaair))\n",
    "actMap_mu = Maps.InjectActiveCells(mesh, indActive=indActive, valInactive=mu_0)\n",
    "expMap = Maps.ExpMap(mesh)\n",
    "\n",
    "sigmaMap = expMap * actMap_sigma * casingMap\n",
    "muMap = actMap_mu * casingMap"
   ]
  },
  {
   "cell_type": "code",
   "execution_count": 9,
   "metadata": {
    "collapsed": false
   },
   "outputs": [],
   "source": [
    "muModelInd = 1\n",
    "\n",
    "sigma_m = np.r_[\n",
    "    np.log(cp.sigmaback), np.log(cp.sigmalayer), np.log(cp.sigmacasing), np.log(cp.sigmainside),\n",
    "    cp.layer_z.mean(), cp.layer_z[1] - cp.layer_z[0], cp.casing_r, cp.casing_t, \n",
    "    cp.casing_z[0], cp.casing_z[1]\n",
    "]\n",
    "\n",
    "mu_m = np.r_[\n",
    "    mu_0, mu_0, cp.muModels[muModelInd]*mu_0, mu_0,\n",
    "    cp.layer_z.mean(), cp.layer_z[1] - cp.layer_z[0], cp.casing_r, cp.casing_t, \n",
    "    cp.casing_z[0], cp.casing_z[1]\n",
    "]"
   ]
  },
  {
   "cell_type": "code",
   "execution_count": 10,
   "metadata": {
    "collapsed": false
   },
   "outputs": [
    {
     "name": "stdout",
     "output_type": "stream",
     "text": [
      "CPU times: user 45.6 s, sys: 1.39 s, total: 47 s\n",
      "Wall time: 49.6 s\n"
     ]
    }
   ],
   "source": [
    "%%time\n",
    "sigma = sigmaMap * sigma_m\n",
    "mu = muMap * mu_m"
   ]
  },
  {
   "cell_type": "code",
   "execution_count": 11,
   "metadata": {
    "collapsed": false,
    "scrolled": true
   },
   "outputs": [
    {
     "data": {
      "image/png": "[encoded data removed]",
      "text/plain": [
       "<matplotlib.figure.Figure at 0x110877850>"
      ]
     },
     "metadata": {},
     "output_type": "display_data"
    }
   ],
   "source": [
    "fig, ax = plt.subplots(1, 2, figsize=(10,4))\n",
    "ax = plotModels(mesh, sigma, mu, xlim=[0.,1.], zlim=[-2200., 100.], ax=ax)\n",
    "# fig.savefig('{}/{}'.format(directory, 'PhysPropModels'))"
   ]
  },
  {
   "cell_type": "markdown",
   "metadata": {
    "collapsed": false
   },
   "source": [
    "# Set up the Source"
   ]
  },
  {
   "cell_type": "code",
   "execution_count": 12,
   "metadata": {
    "collapsed": false
   },
   "outputs": [],
   "source": [
    "# down-holeSource\n",
    "dhSrc = DownHoleCasingSrc(mesh, cp.src_a, cp.src_b, cp.casing_a, cp.freqs)\n",
    "thSrc = TopCasingSource(mesh, np.r_[0.,0.,0], cp.src_b, cp.casing_a, cp.freqs)"
   ]
  },
  {
   "cell_type": "code",
   "execution_count": 13,
   "metadata": {
    "collapsed": false
   },
   "outputs": [
    {
     "data": {
      "text/plain": [
       "(-1951, -1949)"
      ]
     },
     "execution_count": 13,
     "metadata": {},
     "output_type": "execute_result"
    },
    {
     "data": {
      "image/png": "[encoded data removed]",
      "text/plain": [
       "<matplotlib.figure.Figure at 0x119aba750>"
      ]
     },
     "metadata": {},
     "output_type": "display_data"
    }
   ],
   "source": [
    "# Plot the source to make sure the path is infact\n",
    "# connected\n",
    "\n",
    "fig, ax = plt.subplots(1, 1, figsize=(6, 4))\n",
    "mesh.plotImage(np.log10(sigma), ax=ax)\n",
    "mesh.plotGrid(ax=ax)\n",
    "dhSrc.plotSrc(ax=ax)\n",
    "\n",
    "ax.set_title('downhole casing source on mesh')\n",
    "\n",
    "ax.set_xlim([0, 0.02])\n",
    "ax.set_ylim([-1951, -1949])\n",
    "\n",
    "# fig.savefig('{}/{}'.format(directory, 'SourceOnMesh.png'))"
   ]
  },
  {
   "cell_type": "markdown",
   "metadata": {},
   "source": [
    "# Problem and Survey"
   ]
  },
  {
   "cell_type": "code",
   "execution_count": 14,
   "metadata": {
    "collapsed": false
   },
   "outputs": [],
   "source": [
    "prob = FDEM.Problem3D_h(mesh, sigma=sigma, muMap=muMap)\n",
    "survey = FDEM.Survey(dhSrc.s_e + thSrc.s_e)\n",
    "prob.solver = Solver\n",
    "prob.pair(survey)"
   ]
  },
  {
   "cell_type": "code",
   "execution_count": 15,
   "metadata": {
    "collapsed": false
   },
   "outputs": [],
   "source": [
    "def MuCasingModel(mucasing):\n",
    "    return np.r_[\n",
    "        mu_0, mu_0, mucasing*mu_0, mu_0,\n",
    "        cp.layer_z.mean(), cp.layer_z[1] - cp.layer_z[0], cp.casing_r, cp.casing_t, \n",
    "        cp.casing_z[0], cp.casing_z[1]\n",
    "    ]"
   ]
  },
  {
   "cell_type": "code",
   "execution_count": 16,
   "metadata": {
    "collapsed": true
   },
   "outputs": [],
   "source": [
    "cp.muModels = [1., 50., 100., 200.]\n",
    "fields = {}"
   ]
  },
  {
   "cell_type": "code",
   "execution_count": 17,
   "metadata": {
    "collapsed": false
   },
   "outputs": [],
   "source": [
    "if rerun is True:\n",
    "    # create a file to store results\n",
    "    results = h5py.File(\"{}/{}\".format(directory, resultsfile), \"w\")\n",
    "else:\n",
    "    results = h5py.File(\"{}/{}\".format(directory, resultsfile), \"r\")"
   ]
  },
  {
   "cell_type": "code",
   "execution_count": 18,
   "metadata": {
    "collapsed": false
   },
   "outputs": [
    {
     "data": {
      "text/plain": [
       "[u'fields_1', u'fields_100', u'fields_200', u'fields_50']"
      ]
     },
     "execution_count": 18,
     "metadata": {},
     "output_type": "execute_result"
    }
   ],
   "source": [
    "results.keys()"
   ]
  },
  {
   "cell_type": "code",
   "execution_count": 19,
   "metadata": {
    "collapsed": false
   },
   "outputs": [
    {
     "name": "stdout",
     "output_type": "stream",
     "text": [
      "loading mu = 1mu_0\n",
      "... loaded mu = 1mu_0\n",
      "loading mu = 50mu_0\n",
      "... loaded mu = 50mu_0\n",
      "loading mu = 100mu_0\n",
      "... loaded mu = 100mu_0\n",
      "loading mu = 200mu_0\n",
      "... loaded mu = 200mu_0\n",
      "CPU times: user 3min 31s, sys: 16.6 s, total: 3min 48s\n",
      "Wall time: 4min 6s\n"
     ]
    }
   ],
   "source": [
    "%%time\n",
    "for muMod in cp.muModels:\n",
    "    tag = int(muMod)\n",
    "    curMu = MuCasingModel(muMod)\n",
    "\n",
    "    if rerun is True:\n",
    "        print('solving mu = {}mu_0'.format(tag))\n",
    "        fields[tag] = prob.fields(curMu)\n",
    "        dbentry = \"fields_{tag}\".format(tag=tag)\n",
    "        results.create_dataset(dbentry, data=fields[tag][:,'hSolution'])\n",
    "        print('... saved fields_{tag}'.format(tag=tag))\n",
    "        \n",
    "        # Save parameters used to produce these fields\n",
    "        with open(cp_file, 'w') as outfile:\n",
    "            json.dump(cp.serialize(), outfile)\n",
    "\n",
    "    else:\n",
    "        print('loading mu = {}mu_0'.format(tag))\n",
    "        prob.model = curMu\n",
    "        f = prob.fieldsPair(mesh, survey)\n",
    "        f[:, 'hSolution'] = results['fields_{}'.format(tag)].value\n",
    "        fields[tag] = f\n",
    "        print('... loaded mu = {}mu_0'.format(tag))"
   ]
  },
  {
   "cell_type": "code",
   "execution_count": 21,
   "metadata": {
    "collapsed": false
   },
   "outputs": [
    {
     "data": {
      "text/plain": [
       "{}"
      ]
     },
     "execution_count": 21,
     "metadata": {},
     "output_type": "execute_result"
    }
   ],
   "source": [
    "fields"
   ]
  },
  {
   "cell_type": "code",
   "execution_count": 20,
   "metadata": {
    "collapsed": false
   },
   "outputs": [
    {
     "name": "stdout",
     "output_type": "stream",
     "text": [
      "0.1 Hz, 1.0 mu_0\n"
     ]
    },
    {
     "ename": "KeyError",
     "evalue": "1.0",
     "output_type": "error",
     "traceback": [
      "\u001b[0;31m---------------------------------------------------------------------------\u001b[0m",
      "\u001b[0;31mKeyError\u001b[0m                                  Traceback (most recent call last)",
      "\u001b[0;32m<ipython-input-20-e3a2e2d7d33f>\u001b[0m in \u001b[0;36mvecplot_j\u001b[0;34m(muind, freqind, reim, th_bh)\u001b[0m\n\u001b[1;32m      7\u001b[0m     \u001b[0;32mprint\u001b[0m\u001b[0;34m(\u001b[0m\u001b[0;34m'{} Hz, {} mu_0'\u001b[0m\u001b[0;34m.\u001b[0m\u001b[0mformat\u001b[0m\u001b[0;34m(\u001b[0m\u001b[0mcp\u001b[0m\u001b[0;34m.\u001b[0m\u001b[0mfreqs\u001b[0m\u001b[0;34m[\u001b[0m\u001b[0mfreqind\u001b[0m\u001b[0;34m]\u001b[0m\u001b[0;34m,\u001b[0m \u001b[0mmur\u001b[0m\u001b[0;34m)\u001b[0m\u001b[0;34m)\u001b[0m\u001b[0;34m\u001b[0m\u001b[0m\n\u001b[1;32m      8\u001b[0m     ax = plotCurrentDensity(\n\u001b[0;32m----> 9\u001b[0;31m         \u001b[0mmesh\u001b[0m\u001b[0;34m,\u001b[0m \u001b[0mfields\u001b[0m\u001b[0;34m[\u001b[0m\u001b[0mmur\u001b[0m\u001b[0;34m]\u001b[0m\u001b[0;34m[\u001b[0m\u001b[0msrc\u001b[0m\u001b[0;34m,\u001b[0m \u001b[0;34m'j'\u001b[0m\u001b[0;34m]\u001b[0m\u001b[0;34m,\u001b[0m \u001b[0mcsx\u001b[0m\u001b[0;34m=\u001b[0m\u001b[0;36m0.01\u001b[0m\u001b[0;34m,\u001b[0m \u001b[0mcsz\u001b[0m\u001b[0;34m=\u001b[0m\u001b[0;36m10.\u001b[0m\u001b[0;34m,\u001b[0m\u001b[0;34m\u001b[0m\u001b[0m\n\u001b[0m\u001b[1;32m     10\u001b[0m         \u001b[0mxmax\u001b[0m\u001b[0;34m=\u001b[0m\u001b[0;36m0.25\u001b[0m\u001b[0;34m,\u001b[0m \u001b[0mzmin\u001b[0m\u001b[0;34m=\u001b[0m\u001b[0;36m10.\u001b[0m\u001b[0;34m,\u001b[0m \u001b[0mzmax\u001b[0m\u001b[0;34m=\u001b[0m\u001b[0;34m-\u001b[0m\u001b[0;36m2100.\u001b[0m\u001b[0;34m,\u001b[0m \u001b[0mreal_or_imag\u001b[0m\u001b[0;34m=\u001b[0m\u001b[0mreim\u001b[0m\u001b[0;34m,\u001b[0m \u001b[0mmirror\u001b[0m\u001b[0;34m=\u001b[0m\u001b[0mTrue\u001b[0m\u001b[0;34m\u001b[0m\u001b[0m\n\u001b[1;32m     11\u001b[0m     )\n",
      "\u001b[0;31mKeyError\u001b[0m: 1.0"
     ]
    },
    {
     "data": {
      "image/png": "[encoded data removed]",
      "text/plain": [
       "<matplotlib.figure.Figure at 0x11960fd10>"
      ]
     },
     "metadata": {},
     "output_type": "display_data"
    }
   ],
   "source": [
    "def vecplot_j(muind, freqind, reim='real', th_bh = 'bh'):\n",
    "    fig, ax = plt.subplots(1,1, figsize=(6,8))\n",
    "    src = survey.getSrcByFreq(survey.freqs[freqind])\n",
    "    src = src[0] if th_bh == 'bh' else src[1]\n",
    "    mur = cp.muModels[muind]\n",
    "    \n",
    "    print('{} Hz, {} mu_0'.format(cp.freqs[freqind], mur))\n",
    "    ax = plotCurrentDensity(\n",
    "        mesh, fields[mur][src, 'j'], csx=0.01, csz=10., \n",
    "        xmax=0.25, zmin=10., zmax=-2100., real_or_imag=reim, mirror=True\n",
    "    )\n",
    "    return ax\n",
    "\n",
    "w = widgets.interactive(\n",
    "        vecplot_j, muind=widgets.IntSlider(min=0, max=len(cp.muModels)-1),\n",
    "        freqind=widgets.IntSlider(min=0, max=len(cp.freqs)-1),\n",
    "        reim=widgets.ToggleButtons(options=['real', 'imag']),\n",
    "        th_bh=widgets.ToggleButtons(options=['th', 'bh']) \n",
    ")\n",
    "w\n",
    "#ax.axis('equal', adjustable='box')"
   ]
  },
  {
   "cell_type": "code",
   "execution_count": 21,
   "metadata": {
    "collapsed": false
   },
   "outputs": [
    {
     "ename": "NameError",
     "evalue": "global name 'freqind' is not defined",
     "output_type": "error",
     "traceback": [
      "\u001b[0;31m---------------------------------------------------------------------------\u001b[0m",
      "\u001b[0;31mNameError\u001b[0m                                 Traceback (most recent call last)",
      "\u001b[0;32m<ipython-input-21-4bebc96293dd>\u001b[0m in \u001b[0;36m<module>\u001b[0;34m()\u001b[0m\n\u001b[0;32m----> 1\u001b[0;31m \u001b[0mget_ipython\u001b[0m\u001b[0;34m(\u001b[0m\u001b[0;34m)\u001b[0m\u001b[0;34m.\u001b[0m\u001b[0mrun_cell_magic\u001b[0m\u001b[0;34m(\u001b[0m\u001b[0;34mu'time'\u001b[0m\u001b[0;34m,\u001b[0m \u001b[0;34mu''\u001b[0m\u001b[0;34m,\u001b[0m \u001b[0;34mu'\\nIxCasing, IzCasing = CasingCurrents(cp, fields, mesh, survey)'\u001b[0m\u001b[0;34m)\u001b[0m\u001b[0;34m\u001b[0m\u001b[0m\n\u001b[0m",
      "\u001b[0;32m//anaconda/lib/python2.7/site-packages/IPython/core/interactiveshell.pyc\u001b[0m in \u001b[0;36mrun_cell_magic\u001b[0;34m(self, magic_name, line, cell)\u001b[0m\n\u001b[1;32m   2113\u001b[0m             \u001b[0mmagic_arg_s\u001b[0m \u001b[0;34m=\u001b[0m \u001b[0mself\u001b[0m\u001b[0;34m.\u001b[0m\u001b[0mvar_expand\u001b[0m\u001b[0;34m(\u001b[0m\u001b[0mline\u001b[0m\u001b[0;34m,\u001b[0m \u001b[0mstack_depth\u001b[0m\u001b[0;34m)\u001b[0m\u001b[0;34m\u001b[0m\u001b[0m\n\u001b[1;32m   2114\u001b[0m             \u001b[0;32mwith\u001b[0m \u001b[0mself\u001b[0m\u001b[0;34m.\u001b[0m\u001b[0mbuiltin_trap\u001b[0m\u001b[0;34m:\u001b[0m\u001b[0;34m\u001b[0m\u001b[0m\n\u001b[0;32m-> 2115\u001b[0;31m                 \u001b[0mresult\u001b[0m \u001b[0;34m=\u001b[0m \u001b[0mfn\u001b[0m\u001b[0;34m(\u001b[0m\u001b[0mmagic_arg_s\u001b[0m\u001b[0;34m,\u001b[0m \u001b[0mcell\u001b[0m\u001b[0;34m)\u001b[0m\u001b[0;34m\u001b[0m\u001b[0m\n\u001b[0m\u001b[1;32m   2116\u001b[0m             \u001b[0;32mreturn\u001b[0m \u001b[0mresult\u001b[0m\u001b[0;34m\u001b[0m\u001b[0m\n\u001b[1;32m   2117\u001b[0m \u001b[0;34m\u001b[0m\u001b[0m\n",
      "\u001b[0;32m<decorator-gen-59>\u001b[0m in \u001b[0;36mtime\u001b[0;34m(self, line, cell, local_ns)\u001b[0m\n",
      "\u001b[0;32m//anaconda/lib/python2.7/site-packages/IPython/core/magic.pyc\u001b[0m in \u001b[0;36m<lambda>\u001b[0;34m(f, *a, **k)\u001b[0m\n\u001b[1;32m    186\u001b[0m     \u001b[0;31m# but it's overkill for just that one bit of state.\u001b[0m\u001b[0;34m\u001b[0m\u001b[0;34m\u001b[0m\u001b[0m\n\u001b[1;32m    187\u001b[0m     \u001b[0;32mdef\u001b[0m \u001b[0mmagic_deco\u001b[0m\u001b[0;34m(\u001b[0m\u001b[0marg\u001b[0m\u001b[0;34m)\u001b[0m\u001b[0;34m:\u001b[0m\u001b[0;34m\u001b[0m\u001b[0m\n\u001b[0;32m--> 188\u001b[0;31m         \u001b[0mcall\u001b[0m \u001b[0;34m=\u001b[0m \u001b[0;32mlambda\u001b[0m \u001b[0mf\u001b[0m\u001b[0;34m,\u001b[0m \u001b[0;34m*\u001b[0m\u001b[0ma\u001b[0m\u001b[0;34m,\u001b[0m \u001b[0;34m**\u001b[0m\u001b[0mk\u001b[0m\u001b[0;34m:\u001b[0m \u001b[0mf\u001b[0m\u001b[0;34m(\u001b[0m\u001b[0;34m*\u001b[0m\u001b[0ma\u001b[0m\u001b[0;34m,\u001b[0m \u001b[0;34m**\u001b[0m\u001b[0mk\u001b[0m\u001b[0;34m)\u001b[0m\u001b[0;34m\u001b[0m\u001b[0m\n\u001b[0m\u001b[1;32m    189\u001b[0m \u001b[0;34m\u001b[0m\u001b[0m\n\u001b[1;32m    190\u001b[0m         \u001b[0;32mif\u001b[0m \u001b[0mcallable\u001b[0m\u001b[0;34m(\u001b[0m\u001b[0marg\u001b[0m\u001b[0;34m)\u001b[0m\u001b[0;34m:\u001b[0m\u001b[0;34m\u001b[0m\u001b[0m\n",
      "\u001b[0;32m//anaconda/lib/python2.7/site-packages/IPython/core/magics/execution.pyc\u001b[0m in \u001b[0;36mtime\u001b[0;34m(self, line, cell, local_ns)\u001b[0m\n\u001b[1;32m   1178\u001b[0m         \u001b[0;32melse\u001b[0m\u001b[0;34m:\u001b[0m\u001b[0;34m\u001b[0m\u001b[0m\n\u001b[1;32m   1179\u001b[0m             \u001b[0mst\u001b[0m \u001b[0;34m=\u001b[0m \u001b[0mclock2\u001b[0m\u001b[0;34m(\u001b[0m\u001b[0;34m)\u001b[0m\u001b[0;34m\u001b[0m\u001b[0m\n\u001b[0;32m-> 1180\u001b[0;31m             \u001b[0;32mexec\u001b[0m\u001b[0;34m(\u001b[0m\u001b[0mcode\u001b[0m\u001b[0;34m,\u001b[0m \u001b[0mglob\u001b[0m\u001b[0;34m,\u001b[0m \u001b[0mlocal_ns\u001b[0m\u001b[0;34m)\u001b[0m\u001b[0;34m\u001b[0m\u001b[0m\n\u001b[0m\u001b[1;32m   1181\u001b[0m             \u001b[0mend\u001b[0m \u001b[0;34m=\u001b[0m \u001b[0mclock2\u001b[0m\u001b[0;34m(\u001b[0m\u001b[0;34m)\u001b[0m\u001b[0;34m\u001b[0m\u001b[0m\n\u001b[1;32m   1182\u001b[0m             \u001b[0mout\u001b[0m \u001b[0;34m=\u001b[0m \u001b[0mNone\u001b[0m\u001b[0;34m\u001b[0m\u001b[0m\n",
      "\u001b[0;32m<timed exec>\u001b[0m in \u001b[0;36m<module>\u001b[0;34m()\u001b[0m\n",
      "\u001b[0;32m/Users/lindseyjh/git/casingResearch/CasingSimulations.py\u001b[0m in \u001b[0;36mCasingCurrents\u001b[0;34m(cp, fields, mesh, survey)\u001b[0m\n\u001b[1;32m    287\u001b[0m \u001b[0;34m\u001b[0m\u001b[0m\n\u001b[1;32m    288\u001b[0m         \u001b[0;32mfor\u001b[0m \u001b[0msrc\u001b[0m \u001b[0;32min\u001b[0m \u001b[0mrange\u001b[0m\u001b[0;34m(\u001b[0m\u001b[0mlen\u001b[0m\u001b[0;34m(\u001b[0m\u001b[0mcp\u001b[0m\u001b[0;34m.\u001b[0m\u001b[0mfreqs\u001b[0m\u001b[0;34m)\u001b[0m\u001b[0;34m)\u001b[0m\u001b[0;34m:\u001b[0m\u001b[0;34m\u001b[0m\u001b[0m\n\u001b[0;32m--> 289\u001b[0;31m             jxCasing = jACasing[:mesh.nFx, freqind].reshape(\n\u001b[0m\u001b[1;32m    290\u001b[0m                 \u001b[0mmesh\u001b[0m\u001b[0;34m.\u001b[0m\u001b[0mvnFx\u001b[0m\u001b[0;34m[\u001b[0m\u001b[0;36m0\u001b[0m\u001b[0;34m]\u001b[0m\u001b[0;34m,\u001b[0m \u001b[0mmesh\u001b[0m\u001b[0;34m.\u001b[0m\u001b[0mvnFx\u001b[0m\u001b[0;34m[\u001b[0m\u001b[0;36m2\u001b[0m\u001b[0;34m]\u001b[0m\u001b[0;34m,\u001b[0m \u001b[0morder\u001b[0m\u001b[0;34m=\u001b[0m\u001b[0;34m'F'\u001b[0m\u001b[0;34m\u001b[0m\u001b[0m\n\u001b[1;32m    291\u001b[0m             )\n",
      "\u001b[0;31mNameError\u001b[0m: global name 'freqind' is not defined"
     ]
    }
   ],
   "source": [
    "%%time \n",
    "\n",
    "IxCasing, IzCasing = CasingCurrents(cp, fields, mesh, survey)"
   ]
  },
  {
   "cell_type": "code",
   "execution_count": null,
   "metadata": {
    "collapsed": false
   },
   "outputs": [],
   "source": [
    "def plotMe_freq(muopt, reim, subtract=None):\n",
    "    fig, ax = plt.subplots(2,1, figsize=(10,8))\n",
    "    mur = cp.muModels[muopt]\n",
    "    ax = plot_currents_over_freq(\n",
    "        IxCasing, IzCasing, cp, mesh, mur, subtract=subtract, real_or_imag=reim, \n",
    "        ax=ax\n",
    "    )  \n",
    "    \n",
    "\n",
    "w = widgets.interact(\n",
    "    plotMe_freq, \n",
    "    muopt=widgets.IntSlider(min=0., max=len(cp.muModels)-1), \n",
    "    reim=widgets.ToggleButtons(options=['real', 'imag']),\n",
    "    subtract=widgets.ToggleButtons(options=[None, 1])\n",
    ")\n"
   ]
  },
  {
   "cell_type": "code",
   "execution_count": null,
   "metadata": {
    "collapsed": false
   },
   "outputs": [],
   "source": [
    "def plotMe_mu(freqopt, reim, subtract=None):\n",
    "#     fig, ax = plt.subplots(2,1, figsize=(10,8))\n",
    "    freq = cp.freqs[freqopt]\n",
    "    plot_currents_over_mu(IxCasing, IzCasing, cp, mesh, freqopt, subtract=subtract, real_or_imag=reim)  \n",
    "\n",
    "w = widgets.interact(\n",
    "    plotMe_mu, \n",
    "    freqopt=widgets.IntSlider(min=0., max=len(cp.freqs)-1), \n",
    "    reim=widgets.ToggleButtons(options=['real', 'imag']),\n",
    "    subtract=widgets.ToggleButtons(options=[None, 1])\n",
    ")\n",
    "\n",
    "w"
   ]
  },
  {
   "cell_type": "code",
   "execution_count": 17,
   "metadata": {
    "collapsed": false
   },
   "outputs": [
    {
     "name": "stdout",
     "output_type": "stream",
     "text": [
      "0.1 Hz\n"
     ]
    },
    {
     "ename": "NameError",
     "evalue": "global name 'srcind' is not defined",
     "output_type": "error",
     "traceback": [
      "\u001b[0;31m---------------------------------------------------------------------------\u001b[0m",
      "\u001b[0;31mNameError\u001b[0m                                 Traceback (most recent call last)",
      "\u001b[0;32m<ipython-input-17-51f1ad7d0bd8>\u001b[0m in \u001b[0;36mplotMe_j_mu_z\u001b[0;34m(freqopt, reim, r, subtract)\u001b[0m\n\u001b[1;32m      4\u001b[0m     plot_j_over_mu_z(\n\u001b[1;32m      5\u001b[0m         \u001b[0mcp\u001b[0m\u001b[0;34m,\u001b[0m \u001b[0mfields\u001b[0m\u001b[0;34m,\u001b[0m \u001b[0mmesh\u001b[0m\u001b[0;34m,\u001b[0m \u001b[0msurvey\u001b[0m\u001b[0;34m,\u001b[0m \u001b[0mfreqopt\u001b[0m\u001b[0;34m,\u001b[0m \u001b[0msubtract\u001b[0m\u001b[0;34m=\u001b[0m\u001b[0msubtract\u001b[0m\u001b[0;34m,\u001b[0m \u001b[0mr\u001b[0m\u001b[0;34m=\u001b[0m\u001b[0mr\u001b[0m\u001b[0;34m,\u001b[0m\u001b[0;34m\u001b[0m\u001b[0m\n\u001b[0;32m----> 6\u001b[0;31m         \u001b[0mreal_or_imag\u001b[0m\u001b[0;34m=\u001b[0m\u001b[0mreim\u001b[0m\u001b[0;34m,\u001b[0m \u001b[0max\u001b[0m\u001b[0;34m=\u001b[0m\u001b[0max\u001b[0m\u001b[0;34m\u001b[0m\u001b[0m\n\u001b[0m\u001b[1;32m      7\u001b[0m     )  \n\u001b[1;32m      8\u001b[0m \u001b[0;31m#     ax[1].set_ylim([1e-4, 3e-4])\u001b[0m\u001b[0;34m\u001b[0m\u001b[0;34m\u001b[0m\u001b[0m\n",
      "\u001b[0;32m/Users/lindseyjh/git/casingResearch/CasingSimulations.pyc\u001b[0m in \u001b[0;36mplot_j_over_mu_z\u001b[0;34m(cp, fields, mesh, survey, freqind, r, zlim, real_or_imag, subtract, ax, logScale)\u001b[0m\n\u001b[1;32m    791\u001b[0m     \u001b[0mleg\u001b[0m \u001b[0;34m=\u001b[0m \u001b[0;34m[\u001b[0m\u001b[0;34m]\u001b[0m\u001b[0;34m\u001b[0m\u001b[0m\n\u001b[1;32m    792\u001b[0m     \u001b[0;32mfor\u001b[0m \u001b[0mi\u001b[0m\u001b[0;34m,\u001b[0m \u001b[0mmur\u001b[0m \u001b[0;32min\u001b[0m \u001b[0menumerate\u001b[0m\u001b[0;34m(\u001b[0m\u001b[0mcp\u001b[0m\u001b[0;34m.\u001b[0m\u001b[0mmuModels\u001b[0m\u001b[0;34m)\u001b[0m\u001b[0;34m:\u001b[0m\u001b[0;34m\u001b[0m\u001b[0m\n\u001b[0;32m--> 793\u001b[0;31m         \u001b[0msrc\u001b[0m \u001b[0;34m=\u001b[0m \u001b[0msurvey\u001b[0m\u001b[0;34m.\u001b[0m\u001b[0mgetSrcByFreq\u001b[0m\u001b[0;34m(\u001b[0m\u001b[0msurvey\u001b[0m\u001b[0;34m.\u001b[0m\u001b[0mfreqs\u001b[0m\u001b[0;34m[\u001b[0m\u001b[0mfreqind\u001b[0m\u001b[0;34m]\u001b[0m\u001b[0;34m)\u001b[0m\u001b[0;34m[\u001b[0m\u001b[0msrcind\u001b[0m\u001b[0;34m]\u001b[0m\u001b[0;34m\u001b[0m\u001b[0m\n\u001b[0m\u001b[1;32m    794\u001b[0m         \u001b[0mj\u001b[0m \u001b[0;34m=\u001b[0m \u001b[0mUtils\u001b[0m\u001b[0;34m.\u001b[0m\u001b[0mmkvc\u001b[0m\u001b[0;34m(\u001b[0m\u001b[0mfields\u001b[0m\u001b[0;34m[\u001b[0m\u001b[0mmur\u001b[0m\u001b[0;34m]\u001b[0m\u001b[0;34m[\u001b[0m\u001b[0msrc\u001b[0m\u001b[0;34m,\u001b[0m \u001b[0;34m'j'\u001b[0m\u001b[0;34m]\u001b[0m\u001b[0;34m.\u001b[0m\u001b[0mcopy\u001b[0m\u001b[0;34m(\u001b[0m\u001b[0;34m)\u001b[0m\u001b[0;34m)\u001b[0m\u001b[0;34m\u001b[0m\u001b[0m\n\u001b[1;32m    795\u001b[0m \u001b[0;34m\u001b[0m\u001b[0m\n",
      "\u001b[0;31mNameError\u001b[0m: global name 'srcind' is not defined"
     ]
    },
    {
     "data": {
      "text/plain": [
       "<function __main__.plotMe_j_mu_z>"
      ]
     },
     "execution_count": 17,
     "metadata": {},
     "output_type": "execute_result"
    },
    {
     "data": {
      "image/png": "[encoded data removed]",
      "text/plain": [
       "<matplotlib.figure.Figure at 0x11991fc90>"
      ]
     },
     "metadata": {},
     "output_type": "display_data"
    }
   ],
   "source": [
    "def plotMe_j_mu_z(freqopt, reim, r, subtract=None):\n",
    "    fig, ax = plt.subplots(2,1, figsize=(10,8))\n",
    "    freq = cp.freqs[freqopt]\n",
    "    plot_j_over_mu_z(\n",
    "        cp, fields, mesh, survey, freqopt, subtract=subtract, r=r, \n",
    "        real_or_imag=reim, ax=ax\n",
    "    )  \n",
    "#     ax[1].set_ylim([1e-4, 3e-4])\n",
    "\n",
    "widgets.interact(\n",
    "    plotMe_j_mu_z, \n",
    "    freqopt=widgets.IntSlider(min=0., max=len(cp.freqs)-1), \n",
    "    r=widgets.FloatText(value=1.), \n",
    "    reim=widgets.ToggleButtons(options=['real', 'imag']),\n",
    "    subtract=widgets.ToggleButtons(options=[None, 1])\n",
    ")"
   ]
  },
  {
   "cell_type": "code",
   "execution_count": null,
   "metadata": {
    "collapsed": false
   },
   "outputs": [],
   "source": [
    "def plotMe_j_mu_x(freqopt, reim, z, subtract=None):\n",
    "    fig, ax = plt.subplots(2,1, figsize=(10,8))\n",
    "    freq = cp.freqs[freqopt]\n",
    "    plot_j_over_mu_x(cp, fields, mesh, survey, freqopt, subtract=subtract, z=z, real_or_imag=reim, ax=ax)\n",
    "    plt.show()\n",
    "\n",
    "j_over_x = widgets.interactive(\n",
    "    plotMe_j_mu_x, \n",
    "    freqopt=widgets.IntSlider(min=0., max=len(cp.freqs)-1, continuous_update=False), \n",
    "    z=widgets.FloatText(value=-950., continuous_update=False), \n",
    "    subtract=widgets.ToggleButtons(options=[None, 1], continuous_update=False), \n",
    "    reim=widgets.ToggleButtons(options=['real', 'imag'], continuous_update=False)\n",
    ")\n",
    "j_over_x"
   ]
  },
  {
   "cell_type": "code",
   "execution_count": null,
   "metadata": {
    "collapsed": true
   },
   "outputs": [],
   "source": []
  },
  {
   "cell_type": "code",
   "execution_count": null,
   "metadata": {
    "collapsed": true
   },
   "outputs": [],
   "source": []
  }
 ],
 "metadata": {
  "anaconda-cloud": {},
  "kernelspec": {
   "display_name": "Python [default]",
   "language": "python",
   "name": "python2"
  },
  "language_info": {
   "codemirror_mode": {
    "name": "ipython",
    "version": 2
   },
   "file_extension": ".py",
   "mimetype": "text/x-python",
   "name": "python",
   "nbconvert_exporter": "python",
   "pygments_lexer": "ipython2",
   "version": "2.7.12"
  },
  "widgets": {
   "state": {
    "ab958986bb164d7cb64a9a35f0ff11da": {
     "views": [
      {
       "cell_index": 28
      }
     ]
    },
    "c4b39d3072684bf1aab8a3d49991c0b5": {
     "views": [
      {
       "cell_index": 24
      }
     ]
    }
   },
   "version": "1.2.0"
  }
 },
 "nbformat": 4,
 "nbformat_minor": 1
}
